{
 "cells": [
  {
   "cell_type": "markdown",
   "metadata": {
    "application/vnd.databricks.v1+cell": {
     "cellMetadata": {},
     "inputWidgets": {},
     "nuid": "adad6d5e-04be-4979-a00a-2c9792ee56f3",
     "showTitle": false,
     "tableResultSettingsMap": {},
     "title": ""
    }
   },
   "source": [
    "### 🔧 Set the Imports  "
   ]
  },
  {
   "cell_type": "code",
   "execution_count": 0,
   "metadata": {
    "application/vnd.databricks.v1+cell": {
     "cellMetadata": {
      "byteLimit": 2048000,
      "rowLimit": 10000
     },
     "inputWidgets": {},
     "nuid": "b956ce2d-a713-4279-96bd-5add954917a3",
     "showTitle": false,
     "tableResultSettingsMap": {},
     "title": ""
    }
   },
   "outputs": [],
   "source": [
    "# call pandas \n",
    "import pandas as  pd  "
   ]
  },
  {
   "cell_type": "markdown",
   "metadata": {
    "application/vnd.databricks.v1+cell": {
     "cellMetadata": {},
     "inputWidgets": {},
     "nuid": "381b6aec-fc8c-43b9-9e70-f51538f59c7a",
     "showTitle": false,
     "tableResultSettingsMap": {},
     "title": ""
    }
   },
   "source": [
    "\n",
    "### 📂 Load the Data  \n"
   ]
  },
  {
   "cell_type": "code",
   "execution_count": 0,
   "metadata": {
    "application/vnd.databricks.v1+cell": {
     "cellMetadata": {
      "byteLimit": 2048000,
      "rowLimit": 10000
     },
     "inputWidgets": {},
     "nuid": "b067de63-dd39-4e3a-883b-bb489ae51f4f",
     "showTitle": false,
     "tableResultSettingsMap": {},
     "title": ""
    }
   },
   "outputs": [],
   "source": [
    "data = pd.read_parquet(\"dataset.parquet\")"
   ]
  },
  {
   "cell_type": "markdown",
   "metadata": {
    "application/vnd.databricks.v1+cell": {
     "cellMetadata": {},
     "inputWidgets": {},
     "nuid": "9d39099b-7bbb-4073-aa92-d3ba6177a6c4",
     "showTitle": false,
     "tableResultSettingsMap": {},
     "title": ""
    }
   },
   "source": [
    "### 📊 Call the `EdaApp` Class  \n",
    "\n",
    "We will now use the **EdaApp** class to perform **Exploratory Data Analysis (EDA)** on the given dataset.  \n"
   ]
  },
  {
   "cell_type": "markdown",
   "metadata": {
    "application/vnd.databricks.v1+cell": {
     "cellMetadata": {},
     "inputWidgets": {},
     "nuid": "a143a296-f8ff-47ac-a138-7eb44763914c",
     "showTitle": false,
     "tableResultSettingsMap": {},
     "title": ""
    }
   },
   "source": [
    "## ⚙️ Eda Configuration  \n",
    "\n",
    "The eda techniques can be selected from the configuration file:  \n",
    "\n",
    "📂 **Path**:  \n",
    "`data_analysis_exploration/settings/explorative_data_analysis_settings.yaml` \n",
    "\n",
    "\n",
    "\n",
    "The output will be saved in **HTML format** under this directory.  \n",
    "\n",
    "📂 **Path**:  \n",
    "`data_analysis_exploration/output/`\n",
    "\n"
   ]
  },
  {
   "cell_type": "code",
   "execution_count": 0,
   "metadata": {
    "application/vnd.databricks.v1+cell": {
     "cellMetadata": {
      "byteLimit": 2048000,
      "rowLimit": 10000
     },
     "inputWidgets": {},
     "nuid": "5522bd80-2a5b-42cf-b56d-76160713f975",
     "showTitle": false,
     "tableResultSettingsMap": {},
     "title": ""
    }
   },
   "outputs": [],
   "source": [
    "#perform explorative data analysis --> takes around  3  min to execute  \n",
    "from data_analysis_exploration.pandas_eda_lib.eda_app_runner import EdaApp "
   ]
  },
  {
   "cell_type": "code",
   "execution_count": 0,
   "metadata": {
    "application/vnd.databricks.v1+cell": {
     "cellMetadata": {
      "byteLimit": 2048000,
      "rowLimit": 10000
     },
     "inputWidgets": {},
     "nuid": "9139df8b-776a-4afa-8ed2-d3195900fe37",
     "showTitle": false,
     "tableResultSettingsMap": {},
     "title": ""
    }
   },
   "outputs": [],
   "source": [
    "# Run the EDA (Exploratory Data Analysis) process\n",
    "EdaApp(\n",
    "    data=data,\n",
    "    targetColumn=\"FST_BILL_OVERDUE_30\",\n",
    "    timestampColumn=\"CHK_CHECK_START\",\n",
    "    project_folder_name=\"eda use case\",\n",
    "    yaml_user_settings_path = \"data_analysis_exploration/settings/explorative_data_analysis_settings.yaml\",\n",
    "    output_path=\"data_analysis_exploration/output_folder\",\n",
    "    base_path=\"/Workspace/Repos/mohamed-naceur.mahmoud@telefonica.de\",\n",
    "    project_root_name=\"eda_lib\",\n",
    "    project_name = \"eda_use_case\"\n",
    ").run_app()\n"
   ]
  }
 ],
 "metadata": {
  "application/vnd.databricks.v1+notebook": {
   "computePreferences": null,
   "dashboards": [],
   "environmentMetadata": {
    "base_environment": "",
    "environment_version": "1"
   },
   "inputWidgetPreferences": null,
   "language": "python",
   "notebookMetadata": {
    "pythonIndentUnit": 4
   },
   "notebookName": "How to use Explorative Data Analysis Framwork",
   "widgets": {}
  },
  "language_info": {
   "name": "python"
  }
 },
 "nbformat": 4,
 "nbformat_minor": 0
}
